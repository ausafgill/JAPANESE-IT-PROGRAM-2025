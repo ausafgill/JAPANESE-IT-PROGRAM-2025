{
  "nbformat": 4,
  "nbformat_minor": 0,
  "metadata": {
    "colab": {
      "provenance": []
    },
    "kernelspec": {
      "name": "python3",
      "display_name": "Python 3"
    },
    "language_info": {
      "name": "python"
    }
  },
  "cells": [
    {
      "cell_type": "markdown",
      "source": [
        "# Task 1 : Creating a simple to-do application\n"
      ],
      "metadata": {
        "id": "bi8lPpLrWlcJ"
      }
    },
    {
      "cell_type": "code",
      "execution_count": 1,
      "metadata": {
        "id": "BrBzBh2hWfih"
      },
      "outputs": [],
      "source": [
        "tasks = [] # This list will store the tasks added by the user."
      ]
    },
    {
      "cell_type": "code",
      "source": [
        "def add_task(task):\n",
        "  tasks.append(task)"
      ],
      "metadata": {
        "id": "ZgFnoH_7WrEp"
      },
      "execution_count": 2,
      "outputs": []
    },
    {
      "cell_type": "code",
      "source": [
        "def remove_task(task):\n",
        "  tasks.remove(task)"
      ],
      "metadata": {
        "id": "qR9W4UUdW1JH"
      },
      "execution_count": 3,
      "outputs": []
    },
    {
      "cell_type": "code",
      "source": [
        "def view_tasks():\n",
        "  print(\"Tasks:\")\n",
        "  for task in tasks:\n",
        "    print(\"- \" + task)"
      ],
      "metadata": {
        "id": "CyPOnNSgW5Tc"
      },
      "execution_count": 4,
      "outputs": []
    },
    {
      "cell_type": "code",
      "source": [
        "add_task(\"Finish homework\")\n",
        "add_task(\"Buy groceries\")\n",
        "view_tasks()\n",
        "remove_task(\"Buy groceries\")\n",
        "view_tasks()\n"
      ],
      "metadata": {
        "colab": {
          "base_uri": "https://localhost:8080/"
        },
        "id": "hMi9LTQUW-GI",
        "outputId": "15d3e683-e101-4aad-a90c-2ecb5c1b8f0b"
      },
      "execution_count": 5,
      "outputs": [
        {
          "output_type": "stream",
          "name": "stdout",
          "text": [
            "Tasks:\n",
            "- Finish homework\n",
            "- Buy groceries\n",
            "Tasks:\n",
            "- Finish homework\n"
          ]
        }
      ]
    },
    {
      "cell_type": "markdown",
      "source": [
        "# Task 2 : Finding Max & Min Values in a List\n"
      ],
      "metadata": {
        "id": "C7MV8FL7XRhb"
      }
    },
    {
      "cell_type": "code",
      "source": [
        "def find_max_min(lst):\n",
        "  max_val = lst[0]\n",
        "  min_val = lst[0]\n",
        "  for num in lst:\n",
        "    if num > max_val:\n",
        "      max_val = num\n",
        "    elif num < min_val:\n",
        "      min_val = num\n",
        "  return max_val, min_val"
      ],
      "metadata": {
        "id": "xlI7_hbRXLim"
      },
      "execution_count": 6,
      "outputs": []
    },
    {
      "cell_type": "code",
      "source": [
        "numbers = [3,9,2,8,1]\n",
        "max_num, min_num = find_max_min(numbers)\n",
        "print(\"Maximum value:\", max_num)\n",
        "print(\"Minimum value:\", min_num)"
      ],
      "metadata": {
        "colab": {
          "base_uri": "https://localhost:8080/"
        },
        "id": "-iDiW9I-XmxM",
        "outputId": "6ca89c7d-05cd-4f4d-96ac-f14de5c90051"
      },
      "execution_count": 7,
      "outputs": [
        {
          "output_type": "stream",
          "name": "stdout",
          "text": [
            "Maximum value: 9\n",
            "Minimum value: 1\n"
          ]
        }
      ]
    },
    {
      "cell_type": "markdown",
      "source": [
        "# Task 3 : Create a Simple Phonebook Using Dictionaries"
      ],
      "metadata": {
        "id": "h5xRBpAGX7cB"
      }
    },
    {
      "cell_type": "code",
      "source": [
        "phonebook = {}"
      ],
      "metadata": {
        "id": "IgtLk-_uX_rp"
      },
      "execution_count": 8,
      "outputs": []
    },
    {
      "cell_type": "code",
      "source": [
        "def add_contact(name, number):\n",
        "  phonebook[name] = number"
      ],
      "metadata": {
        "id": "0arVmK9MYCLb"
      },
      "execution_count": 13,
      "outputs": []
    },
    {
      "cell_type": "code",
      "source": [
        "def get_number(name):\n",
        "  return phonebook.get(name, \"Contact not found\")"
      ],
      "metadata": {
        "id": "2vJdLq-dYFfj"
      },
      "execution_count": 10,
      "outputs": []
    },
    {
      "cell_type": "code",
      "source": [
        "add_contact(\"Alice\", \"1234567890\")\n",
        "add_contact(\"Bob\", \"9876543210\")\n",
        "print(get_number(\"Alice\"))\n",
        "print(get_number(\"Charlie\"))"
      ],
      "metadata": {
        "colab": {
          "base_uri": "https://localhost:8080/"
        },
        "id": "lLRmDB6rYK6a",
        "outputId": "c424299d-57c1-40a4-9677-dbaa48615a01"
      },
      "execution_count": 14,
      "outputs": [
        {
          "output_type": "stream",
          "name": "stdout",
          "text": [
            "1234567890\n",
            "Contact not found\n"
          ]
        }
      ]
    },
    {
      "cell_type": "markdown",
      "source": [
        "# Task 4: Inventory System Using Dictionaries"
      ],
      "metadata": {
        "id": "cfxFlHNuYWW5"
      }
    },
    {
      "cell_type": "code",
      "source": [
        "inventory = {}"
      ],
      "metadata": {
        "id": "XF6V4do5YaY1"
      },
      "execution_count": 15,
      "outputs": []
    },
    {
      "cell_type": "code",
      "source": [
        "def add_item(item, quantity):\n",
        "  if item in inventory:\n",
        "    inventory[item] += quantity\n",
        "  else:\n",
        "    inventory[item] = quantity"
      ],
      "metadata": {
        "id": "qFPPK_xcYcNd"
      },
      "execution_count": 16,
      "outputs": []
    },
    {
      "cell_type": "code",
      "source": [
        "def remove_item(item,quantity):\n",
        "  if item in inventory:\n",
        "    if inventory[item] >= quantity:\n",
        "      inventory[item] -= quantity\n",
        "    elif inventory[item] == 0:\n",
        "      del inventory[item]\n",
        "    else:\n",
        "      print(\"Insufficient quantity\")"
      ],
      "metadata": {
        "id": "bIgOpRo7YnXM"
      },
      "execution_count": 18,
      "outputs": []
    },
    {
      "cell_type": "code",
      "source": [
        "def view_inventory():\n",
        "  print(\"Inventory:\")\n",
        "  for item, quantity in inventory.items():\n",
        "    print(f\"{item}: {quantity}\")"
      ],
      "metadata": {
        "id": "tt6MvrECauuM"
      },
      "execution_count": 19,
      "outputs": []
    },
    {
      "cell_type": "code",
      "source": [
        "add_item(\"Apple\", 10)\n",
        "add_item(\"Banana\", 5)\n",
        "remove_item(\"Apple\", 3)\n",
        "view_inventory()"
      ],
      "metadata": {
        "colab": {
          "base_uri": "https://localhost:8080/"
        },
        "id": "OF4WXl2UayXT",
        "outputId": "6589f40f-8ac6-4300-af28-312f5b17584d"
      },
      "execution_count": 20,
      "outputs": [
        {
          "output_type": "stream",
          "name": "stdout",
          "text": [
            "Inventory:\n",
            "Apple: 7\n",
            "Banana: 5\n"
          ]
        }
      ]
    },
    {
      "cell_type": "markdown",
      "source": [
        "# Task 5 : ATM System Simulation with Global Variables"
      ],
      "metadata": {
        "id": "TMAcoNxXa855"
      }
    },
    {
      "cell_type": "code",
      "source": [
        "def deposit(balance, amount):\n",
        "   balance += amount\n",
        "   print(f\"Deposited: {amount}. New balance: {balance}\")\n",
        "   return balance # Return the updated balance\n",
        "\n",
        "\n",
        "def withdraw(balance, amount):\n",
        "  if amount <= balance:\n",
        "    balance -= amount\n",
        "    print(f\"Withdrew: {amount}. New balance: {balance}\")\n",
        "  else:\n",
        "    print(\"Insufficient funds\")\n",
        "  return balance # Return the updated balance\n",
        "\n",
        "\n",
        "def check_balance(balance):\n",
        "  print(f\"Current balance: {balance}\")\n",
        "\n",
        "\n",
        "# Example usage\n",
        "balance = 1000 # Initial balance\n",
        "balance = deposit(balance, 500) # Deposit money\n",
        "balance = withdraw(balance, 200) # Withdraw money\n",
        "check_balance(balance) # Check balance"
      ],
      "metadata": {
        "colab": {
          "base_uri": "https://localhost:8080/"
        },
        "id": "fV8sdrWMbALr",
        "outputId": "0dad8c84-93e9-400f-e589-8fd9ab7f65a1"
      },
      "execution_count": 23,
      "outputs": [
        {
          "output_type": "stream",
          "name": "stdout",
          "text": [
            "Deposited: 500. New balance: 1500\n",
            "Withdrew: 200. New balance: 1300\n",
            "Current balance: 1300\n"
          ]
        }
      ]
    }
  ]
}